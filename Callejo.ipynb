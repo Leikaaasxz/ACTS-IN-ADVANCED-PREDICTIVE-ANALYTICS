{
  "nbformat": 4,
  "nbformat_minor": 0,
  "metadata": {
    "colab": {
      "provenance": [],
      "authorship_tag": "ABX9TyMFDvRbKa13xnD72GT8TVft",
      "include_colab_link": true
    },
    "kernelspec": {
      "name": "python3",
      "display_name": "Python 3"
    },
    "language_info": {
      "name": "python"
    }
  },
  "cells": [
    {
      "cell_type": "markdown",
      "metadata": {
        "id": "view-in-github",
        "colab_type": "text"
      },
      "source": [
        "<a href=\"https://colab.research.google.com/github/Leikaaasxz/ACTS-IN-ADVANCED-PREDICTIVE-ANALYTICS/blob/main/Callejo.ipynb\" target=\"_parent\"><img src=\"https://colab.research.google.com/assets/colab-badge.svg\" alt=\"Open In Colab\"/></a>"
      ]
    },
    {
      "cell_type": "code",
      "execution_count": 1,
      "metadata": {
        "id": "4veuRVqMzVvE"
      },
      "outputs": [],
      "source": [
        "import pandas as pd"
      ]
    },
    {
      "cell_type": "code",
      "source": [
        "import numpy as np"
      ],
      "metadata": {
        "id": "gGcwijAAzavO"
      },
      "execution_count": 2,
      "outputs": []
    },
    {
      "cell_type": "code",
      "source": [
        "from sklearn.preprocessing import MinMaxScaler, StandardScaler"
      ],
      "metadata": {
        "id": "3_wGcPI0zjau"
      },
      "execution_count": 3,
      "outputs": []
    },
    {
      "cell_type": "code",
      "source": [
        "df=pd.read_csv(\"https://raw.githubusercontent.com/Leikaaasxz/Activity/main/data.csv\")"
      ],
      "metadata": {
        "id": "xlg3AKPqzo7p"
      },
      "execution_count": 5,
      "outputs": []
    },
    {
      "cell_type": "code",
      "source": [
        "print(df.head())"
      ],
      "metadata": {
        "colab": {
          "base_uri": "https://localhost:8080/"
        },
        "id": "1iO51cU4z0Zd",
        "outputId": "ee2ece4f-eea7-468f-fa3f-fc4658881ec2"
      },
      "execution_count": 6,
      "outputs": [
        {
          "output_type": "stream",
          "name": "stdout",
          "text": [
            "  private  apps  accept  enroll  top10perc  top25perc  f_undergrad  \\\n",
            "0     Yes  1660    1232     721         23         52         2885   \n",
            "1     Yes  2186    1924     512         16         29         2683   \n",
            "2     Yes  1428    1097     336         22         50         1036   \n",
            "3     Yes   417     349     137         60         89          510   \n",
            "4     Yes   193     146      55         16         44          249   \n",
            "\n",
            "   p_undergrad  outstate  room_board  books  personal  phd  terminal  \\\n",
            "0          537      7440        3300    450      2200   70        78   \n",
            "1         1227     12280        6450    750      1500   29        30   \n",
            "2           99     11250        3750    400      1165   53        66   \n",
            "3           63     12960        5450    450       875   92        97   \n",
            "4          869      7560        4120    800      1500   76        72   \n",
            "\n",
            "   s_f_ratio  perc_alumni  expend  grad_rate  \n",
            "0       18.1           12    7041         60  \n",
            "1       12.2           16   10527         56  \n",
            "2       12.9           30    8735         54  \n",
            "3        7.7           37   19016         59  \n",
            "4       11.9            2   10922         15  \n"
          ]
        }
      ]
    },
    {
      "cell_type": "code",
      "source": [
        "print(df.shape)"
      ],
      "metadata": {
        "colab": {
          "base_uri": "https://localhost:8080/"
        },
        "id": "vsdYdLpFz61F",
        "outputId": "030ec239-b93b-4e68-d7ae-186c8eca565d"
      },
      "execution_count": 7,
      "outputs": [
        {
          "output_type": "stream",
          "name": "stdout",
          "text": [
            "(777, 18)\n"
          ]
        }
      ]
    },
    {
      "cell_type": "code",
      "source": [
        "print(df.dtypes)"
      ],
      "metadata": {
        "colab": {
          "base_uri": "https://localhost:8080/"
        },
        "id": "Lr_G_3mqz-4P",
        "outputId": "2b1247a1-d3cb-4028-efa7-bbef19214dd5"
      },
      "execution_count": 8,
      "outputs": [
        {
          "output_type": "stream",
          "name": "stdout",
          "text": [
            "private         object\n",
            "apps             int64\n",
            "accept           int64\n",
            "enroll           int64\n",
            "top10perc        int64\n",
            "top25perc        int64\n",
            "f_undergrad      int64\n",
            "p_undergrad      int64\n",
            "outstate         int64\n",
            "room_board       int64\n",
            "books            int64\n",
            "personal         int64\n",
            "phd              int64\n",
            "terminal         int64\n",
            "s_f_ratio      float64\n",
            "perc_alumni      int64\n",
            "expend           int64\n",
            "grad_rate        int64\n",
            "dtype: object\n"
          ]
        }
      ]
    },
    {
      "cell_type": "code",
      "source": [
        "print(df.isnull().sum())"
      ],
      "metadata": {
        "colab": {
          "base_uri": "https://localhost:8080/"
        },
        "id": "6Rrctm7x0EVO",
        "outputId": "aa263e29-4d49-4765-b2e4-95cf27795455"
      },
      "execution_count": 9,
      "outputs": [
        {
          "output_type": "stream",
          "name": "stdout",
          "text": [
            "private        0\n",
            "apps           0\n",
            "accept         0\n",
            "enroll         0\n",
            "top10perc      0\n",
            "top25perc      0\n",
            "f_undergrad    0\n",
            "p_undergrad    0\n",
            "outstate       0\n",
            "room_board     0\n",
            "books          0\n",
            "personal       0\n",
            "phd            0\n",
            "terminal       0\n",
            "s_f_ratio      0\n",
            "perc_alumni    0\n",
            "expend         0\n",
            "grad_rate      0\n",
            "dtype: int64\n"
          ]
        }
      ]
    },
    {
      "cell_type": "code",
      "source": [
        "df = df.drop_duplicates()"
      ],
      "metadata": {
        "id": "aRIw9Q7L0I7J"
      },
      "execution_count": 10,
      "outputs": []
    },
    {
      "cell_type": "code",
      "source": [
        "print(df.shape)"
      ],
      "metadata": {
        "colab": {
          "base_uri": "https://localhost:8080/"
        },
        "id": "LX6IWNg30QD6",
        "outputId": "dc3ec387-04c7-487e-9fa2-39ad747ee8a5"
      },
      "execution_count": 11,
      "outputs": [
        {
          "output_type": "stream",
          "name": "stdout",
          "text": [
            "(777, 18)\n"
          ]
        }
      ]
    },
    {
      "cell_type": "code",
      "source": [
        "df['apps'] = df['apps'].astype(int)"
      ],
      "metadata": {
        "id": "dubbtp4-3zJ_"
      },
      "execution_count": 22,
      "outputs": []
    },
    {
      "cell_type": "code",
      "source": [
        "df['enroll'] = df['enroll'].astype(int)"
      ],
      "metadata": {
        "id": "HvpnZW4l30dG"
      },
      "execution_count": 23,
      "outputs": []
    },
    {
      "cell_type": "code",
      "source": [
        "df['accept'] = df['accept'].astype(int)"
      ],
      "metadata": {
        "id": "f5BElWVT4Nel"
      },
      "execution_count": 25,
      "outputs": []
    },
    {
      "cell_type": "code",
      "source": [
        "df['private'] = df['private'].astype('category')"
      ],
      "metadata": {
        "id": "lVBJ9zUr4OuZ"
      },
      "execution_count": 26,
      "outputs": []
    },
    {
      "cell_type": "code",
      "source": [
        "print(df.dtypes)"
      ],
      "metadata": {
        "colab": {
          "base_uri": "https://localhost:8080/"
        },
        "id": "j-z8cnvr4SsO",
        "outputId": "bd548ff8-788a-4aeb-d441-d8fc761bb388"
      },
      "execution_count": 27,
      "outputs": [
        {
          "output_type": "stream",
          "name": "stdout",
          "text": [
            "private        category\n",
            "apps              int64\n",
            "accept            int64\n",
            "enroll            int64\n",
            "top10perc         int64\n",
            "top25perc         int64\n",
            "f_undergrad       int64\n",
            "p_undergrad       int64\n",
            "outstate          int64\n",
            "room_board        int64\n",
            "books             int64\n",
            "personal          int64\n",
            "phd               int64\n",
            "terminal          int64\n",
            "s_f_ratio       float64\n",
            "perc_alumni       int64\n",
            "expend            int64\n",
            "grad_rate         int64\n",
            "dtype: object\n"
          ]
        }
      ]
    },
    {
      "cell_type": "code",
      "source": [
        "from sklearn.preprocessing import MinMaxScaler, StandardScaler"
      ],
      "metadata": {
        "id": "YbNweJ_q4W9Y"
      },
      "execution_count": 28,
      "outputs": []
    },
    {
      "cell_type": "code",
      "source": [
        "scaler = MinMaxScaler()"
      ],
      "metadata": {
        "id": "FR1QPM034cp1"
      },
      "execution_count": 29,
      "outputs": []
    },
    {
      "cell_type": "code",
      "source": [
        "df[['apps', 'enroll', 'accept']] = scaler.fit_transform(df[['apps', 'enroll', 'accept']])"
      ],
      "metadata": {
        "id": "JUFGWW4M4g6j"
      },
      "execution_count": 30,
      "outputs": []
    },
    {
      "cell_type": "code",
      "source": [
        "print(df[['apps', 'enroll', 'accept']].head())"
      ],
      "metadata": {
        "colab": {
          "base_uri": "https://localhost:8080/"
        },
        "id": "Ytw266_r47BL",
        "outputId": "0bf618a5-d180-4ee3-fcf4-63d43744e7e5"
      },
      "execution_count": 31,
      "outputs": [
        {
          "output_type": "stream",
          "name": "stdout",
          "text": [
            "       apps    enroll    accept\n",
            "0  0.032887  0.107913  0.044177\n",
            "1  0.043842  0.075035  0.070531\n",
            "2  0.028055  0.047349  0.039036\n",
            "3  0.006998  0.016045  0.010549\n",
            "4  0.002333  0.003146  0.002818\n"
          ]
        }
      ]
    },
    {
      "cell_type": "code",
      "source": [
        "df = df[df['apps'] <= 10000]"
      ],
      "metadata": {
        "id": "Gg5mqp9g4-bq"
      },
      "execution_count": 32,
      "outputs": []
    },
    {
      "cell_type": "code",
      "source": [
        "print(df.shape)"
      ],
      "metadata": {
        "colab": {
          "base_uri": "https://localhost:8080/"
        },
        "id": "Bx5yRP705Gsp",
        "outputId": "c9c6d69b-ce95-4c26-a50f-2e9c45615e23"
      },
      "execution_count": 33,
      "outputs": [
        {
          "output_type": "stream",
          "name": "stdout",
          "text": [
            "(777, 18)\n"
          ]
        }
      ]
    }
  ]
}